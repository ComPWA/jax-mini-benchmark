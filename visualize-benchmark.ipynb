{
 "cells": [
  {
   "cell_type": "code",
   "execution_count": null,
   "metadata": {},
   "outputs": [],
   "source": [
    "import pickle\n",
    "\n",
    "from IPython.core.magics.execution import TimeitResult\n",
    "\n",
    "\n",
    "def load_benchmark(filename: str) -> TimeitResult:\n",
    "    with open(filename, \"rb\") as f:\n",
    "        return pickle.load(f)\n",
    "\n",
    "\n",
    "benchmarks: dict[int | str, TimeitResult] = {}\n",
    "benchmarks[\"all\"] = load_benchmark(\"timing_all.pickle\")\n",
    "for i in range(12):\n",
    "    benchmarks[i] = load_benchmark(f\"timing_c0-{i}.pickle\")"
   ]
  },
  {
   "cell_type": "code",
   "execution_count": null,
   "metadata": {},
   "outputs": [],
   "source": [
    "import pandas as pd\n",
    "\n",
    "df = pd.DataFrame({\n",
    "    k + 1: v.all_runs\n",
    "    for k, v in benchmarks.items()\n",
    "    if isinstance(k, int)\n",
    "    # if k % 2 == 0\n",
    "    # if k < 6\n",
    "})"
   ]
  },
  {
   "cell_type": "code",
   "execution_count": null,
   "metadata": {},
   "outputs": [],
   "source": [
    "import matplotlib.pyplot as plt\n",
    "\n",
    "fig, ax = plt.subplots()\n",
    "df.mean().plot(label=\"mean\", ax=ax)\n",
    "df.min().plot(label=\"min\", ax=ax)\n",
    "df.max().plot(label=\"max\", ax=ax)\n",
    "ax.axhline(min(benchmarks[\"all\"].all_runs), linestyle=\"dotted\", c=\"black\")\n",
    "ax.axhline(max(benchmarks[\"all\"].all_runs), linestyle=\"dotted\", c=\"black\")\n",
    "ax.legend()\n",
    "plt.show()"
   ]
  }
 ],
 "metadata": {
  "colab": {
   "toc_visible": true
  },
  "kernelspec": {
   "display_name": "Python 3 (ipykernel)",
   "language": "python",
   "name": "python3"
  },
  "language_info": {
   "codemirror_mode": {
    "name": "ipython",
    "version": 3
   },
   "file_extension": ".py",
   "mimetype": "text/x-python",
   "name": "python",
   "nbconvert_exporter": "python",
   "pygments_lexer": "ipython3",
   "version": "3.8.16"
  }
 },
 "nbformat": 4,
 "nbformat_minor": 2
}
