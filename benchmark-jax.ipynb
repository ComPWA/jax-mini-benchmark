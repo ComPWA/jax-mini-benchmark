{
 "cells": [
  {
   "attachments": {},
   "cell_type": "markdown",
   "metadata": {},
   "source": [
    "From the [JAX Quickstart](https://jax.readthedocs.io/en/latest/notebooks/quickstart.html):"
   ]
  },
  {
   "cell_type": "code",
   "execution_count": 10,
   "metadata": {},
   "outputs": [],
   "source": [
    "import logging\n",
    "import os\n",
    "\n",
    "import jax.numpy as jnp\n",
    "from jax import random\n",
    "\n",
    "os.environ[\"TF_CPP_MIN_LOG_LEVEL\"] = \"3\"\n",
    "logging.getLogger(\"jax\").setLevel(logging.ERROR)\n",
    "\n",
    "key = random.PRNGKey(0)\n",
    "x = random.normal(key, (100,))\n",
    "\n",
    "size = 3000\n",
    "x = random.normal(key, (size, size), dtype=jnp.float32)\n"
   ]
  },
  {
   "cell_type": "code",
   "execution_count": 11,
   "metadata": {},
   "outputs": [
    {
     "name": "stdout",
     "output_type": "stream",
     "text": [
      "254 ms ± 21.6 ms per loop (mean ± std. dev. of 7 runs, 1 loop each)\n"
     ]
    }
   ],
   "source": [
    "from IPython.core.magics.execution import TimeitResult\n",
    "import pickle\n",
    "\n",
    "timing: TimeitResult = %timeit -o jnp.dot(x, x.T).block_until_ready()\n",
    "with open(\"timing.pickle\", \"wb\") as f:\n",
    "    pickle.dump(timing,  f)"
   ]
  }
 ],
 "metadata": {
  "kernelspec": {
   "display_name": "tw",
   "language": "python",
   "name": "python3"
  },
  "language_info": {
   "codemirror_mode": {
    "name": "ipython",
    "version": 3
   },
   "file_extension": ".py",
   "mimetype": "text/x-python",
   "name": "python",
   "nbconvert_exporter": "python",
   "pygments_lexer": "ipython3",
   "version": "3.8.16"
  },
  "orig_nbformat": 4,
  "vscode": {
   "interpreter": {
    "hash": "941585edea6bc165435aa3186ccdcc04147aa4112b01c30ec33a5464a4b433ae"
   }
  }
 },
 "nbformat": 4,
 "nbformat_minor": 2
}
